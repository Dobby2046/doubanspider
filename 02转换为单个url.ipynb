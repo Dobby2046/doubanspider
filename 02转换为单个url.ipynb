{
 "cells": [
  {
   "cell_type": "code",
   "execution_count": 1,
   "id": "initial_id",
   "metadata": {
    "ExecuteTime": {
     "end_time": "2024-08-13T03:26:01.639691Z",
     "start_time": "2024-08-13T03:26:01.203050Z"
    },
    "collapsed": true
   },
   "outputs": [],
   "source": [
    "from pymongo import MongoClient\n",
    "import pandas as pd"
   ]
  },
  {
   "cell_type": "code",
   "execution_count": 2,
   "id": "65ac506b",
   "metadata": {},
   "outputs": [],
   "source": [
    "import json\n",
    "# 一般在项目中使用绝对路径或与当前脚本相对路径\n",
    "with open('info.json', 'r', encoding='utf-8') as f:\n",
    "    config_data = json.load(f)\n",
    "# 现在可以将 JSON 中的字段赋值给变量\n",
    "groupname = config_data['groupname']\n",
    "pagenum = int(config_data['pagenum'])\n",
    "groupnum = config_data['groupnum']\n"
   ]
  },
  {
   "cell_type": "code",
   "execution_count": 3,
   "id": "f0d01d7d6532993a",
   "metadata": {
    "ExecuteTime": {
     "end_time": "2024-08-13T03:26:05.545823Z",
     "start_time": "2024-08-13T03:26:05.535218Z"
    },
    "collapsed": false
   },
   "outputs": [],
   "source": [
    "client = MongoClient()\n",
    "collection = client[\"douban\"][(groupname)]"
   ]
  },
  {
   "cell_type": "code",
   "execution_count": 4,
   "id": "fcc6efe7635cbadc",
   "metadata": {
    "ExecuteTime": {
     "end_time": "2024-08-13T03:26:06.476852Z",
     "start_time": "2024-08-13T03:26:06.445420Z"
    },
    "collapsed": false
   },
   "outputs": [
    {
     "data": {
      "application/vnd.microsoft.datawrangler.viewer.v0+json": {
       "columns": [
        {
         "name": "index",
         "rawType": "int64",
         "type": "integer"
        },
        {
         "name": "0",
         "rawType": "object",
         "type": "string"
        },
        {
         "name": "1",
         "rawType": "object",
         "type": "string"
        },
        {
         "name": "2",
         "rawType": "object",
         "type": "string"
        },
        {
         "name": "3",
         "rawType": "object",
         "type": "string"
        },
        {
         "name": "4",
         "rawType": "object",
         "type": "string"
        },
        {
         "name": "5",
         "rawType": "object",
         "type": "string"
        },
        {
         "name": "6",
         "rawType": "object",
         "type": "string"
        },
        {
         "name": "7",
         "rawType": "object",
         "type": "string"
        },
        {
         "name": "8",
         "rawType": "object",
         "type": "string"
        },
        {
         "name": "9",
         "rawType": "object",
         "type": "string"
        },
        {
         "name": "10",
         "rawType": "object",
         "type": "string"
        },
        {
         "name": "11",
         "rawType": "object",
         "type": "string"
        },
        {
         "name": "12",
         "rawType": "object",
         "type": "string"
        },
        {
         "name": "13",
         "rawType": "object",
         "type": "string"
        },
        {
         "name": "14",
         "rawType": "object",
         "type": "string"
        },
        {
         "name": "15",
         "rawType": "object",
         "type": "string"
        },
        {
         "name": "16",
         "rawType": "object",
         "type": "string"
        },
        {
         "name": "17",
         "rawType": "object",
         "type": "string"
        },
        {
         "name": "18",
         "rawType": "object",
         "type": "string"
        },
        {
         "name": "19",
         "rawType": "object",
         "type": "string"
        },
        {
         "name": "20",
         "rawType": "object",
         "type": "string"
        },
        {
         "name": "21",
         "rawType": "object",
         "type": "string"
        },
        {
         "name": "22",
         "rawType": "object",
         "type": "string"
        },
        {
         "name": "23",
         "rawType": "object",
         "type": "string"
        },
        {
         "name": "24",
         "rawType": "object",
         "type": "string"
        },
        {
         "name": "25",
         "rawType": "object",
         "type": "string"
        },
        {
         "name": "26",
         "rawType": "object",
         "type": "string"
        },
        {
         "name": "27",
         "rawType": "object",
         "type": "unknown"
        },
        {
         "name": "28",
         "rawType": "object",
         "type": "unknown"
        },
        {
         "name": "29",
         "rawType": "object",
         "type": "unknown"
        },
        {
         "name": "30",
         "rawType": "object",
         "type": "unknown"
        },
        {
         "name": "31",
         "rawType": "object",
         "type": "unknown"
        },
        {
         "name": "32",
         "rawType": "object",
         "type": "unknown"
        },
        {
         "name": "33",
         "rawType": "object",
         "type": "unknown"
        },
        {
         "name": "34",
         "rawType": "object",
         "type": "unknown"
        },
        {
         "name": "35",
         "rawType": "object",
         "type": "unknown"
        }
       ],
       "ref": "6036029f-3f8f-4d4f-8b5c-bc53264c15f0",
       "rows": [
        [
         "0",
         "https://www.douban.com/group/topic/80204323/?_spm_id=NTc4OTkzOTc",
         "https://www.douban.com/group/topic/2140504/?_spm_id=MTc2MzIzNQ",
         "https://www.douban.com/group/topic/1052490/?_spm_id=MTExOTE5Mw",
         "https://www.douban.com/group/topic/289012478/?_spm_id=MTA4OTQ5MQ",
         "https://www.douban.com/group/topic/289029665/?_spm_id=MTAxMDE2Mg",
         "https://www.douban.com/group/topic/289012511/?_spm_id=MTA4OTQ5MQ",
         "https://www.douban.com/group/topic/289012578/?_spm_id=MTA4OTQ5MQ",
         "https://www.douban.com/group/topic/337201546/?_spm_id=Mjg3MzYyNzYz",
         "https://www.douban.com/group/topic/337028675/?_spm_id=Mjc4Mjk3OTgz",
         "https://www.douban.com/group/topic/336581851/?_spm_id=MjQzMDc1NzM4",
         "https://www.douban.com/group/topic/312541952/?_spm_id=MTYxNTAxNjcw",
         "https://www.douban.com/group/topic/331961800/?_spm_id=MTk3Njc0MjUz",
         "https://www.douban.com/group/topic/336702896/?_spm_id=MjExMDMwNTY2",
         "https://www.douban.com/group/topic/337174117/?_spm_id=Mjc3MjA5MjI5",
         "https://www.douban.com/group/topic/337173236/?_spm_id=MjkxMjg1NDE1",
         "https://www.douban.com/group/topic/336159529/?_spm_id=MjQ0MDk0MDgw",
         "https://www.douban.com/group/topic/336505523/?_spm_id=MjAyODgwMzQ0",
         "https://www.douban.com/group/topic/336207054/?_spm_id=MjE1NTc5MDMx",
         "https://www.douban.com/group/topic/335219662/?_spm_id=ODg3Mzg0MTU",
         "https://www.douban.com/group/topic/337082118/?_spm_id=MjkxMjYxMzE0",
         "https://www.douban.com/group/topic/171789064/?_spm_id=MTYwNzUwNzIx",
         "https://www.douban.com/group/topic/337065730/?_spm_id=Mjg3NTExMTY5",
         "https://www.douban.com/group/topic/337053985/?_spm_id=Mjg1MDcyMjIy",
         "https://www.douban.com/group/topic/337050921/?_spm_id=MjMyODg3NDYz",
         "https://www.douban.com/group/topic/323896665/?_spm_id=MTk1MjMwOTQ4",
         "https://www.douban.com/group/topic/336652557/?_spm_id=MjM5NjYyMzY1",
         "https://www.douban.com/group/topic/336706576/?_spm_id=Mjc3MjA5MjI5",
         "https://www.douban.com/group/topic/325638101/?_spm_id=MTk3Njc0MjUz",
         "https://www.douban.com/group/topic/248204845/?_spm_id=MTIyODg2MTIx",
         "https://www.douban.com/group/topic/336955404/?_spm_id=MTgyNzc0ODIx",
         "https://www.douban.com/group/topic/336901822/?_spm_id=MjcxMjE0MTQ3",
         "https://www.douban.com/group/topic/326444319/?_spm_id=MjIxMTY1Nw",
         "https://www.douban.com/group/topic/336792105/?_spm_id=MjAzNjUyNzg0",
         "https://www.douban.com/group/topic/336140088/?_spm_id=Mjg1OTY1NTYw",
         "https://www.douban.com/group/topic/336478156/?_spm_id=MjgxNDU0ODc1",
         "https://www.douban.com/group/topic/336561536/?_spm_id=MjIyNDA0ODQ0"
        ],
        [
         "1",
         "https://www.douban.com/group/topic/326444319/?_spm_id=MjIxMTY1Nw",
         "https://www.douban.com/group/topic/336792105/?_spm_id=MjAzNjUyNzg0",
         "https://www.douban.com/group/topic/336140088/?_spm_id=Mjg1OTY1NTYw",
         "https://www.douban.com/group/topic/336478156/?_spm_id=MjgxNDU0ODc1",
         "https://www.douban.com/group/topic/336561536/?_spm_id=MjIyNDA0ODQ0",
         "https://www.douban.com/group/topic/336674429/?_spm_id=MjYxNTU1NDg2",
         "https://www.douban.com/group/topic/336633461/?_spm_id=Mjg2MDUyODQw",
         "https://www.douban.com/group/topic/336631010/?_spm_id=MTkxOTUzNzE2",
         "https://www.douban.com/group/topic/336616838/?_spm_id=MjU1MTQzNDYx",
         "https://www.douban.com/group/topic/336600475/?_spm_id=MjAyMzQwNzg2",
         "https://www.douban.com/group/topic/336520506/?_spm_id=MTc0MDQ1NDI2",
         "https://www.douban.com/group/topic/318930587/?_spm_id=MjU1OTM1NjIz",
         "https://www.douban.com/group/topic/336538770/?_spm_id=MjkwNDYzNDU2",
         "https://www.douban.com/group/topic/336518292/?_spm_id=Mjc3MjA5MjI5",
         "https://www.douban.com/group/topic/336136973/?_spm_id=MTU5NDE4NDE0",
         "https://www.douban.com/group/topic/335869819/?_spm_id=MjAwMDk1MTAz",
         "https://www.douban.com/group/topic/336478314/?_spm_id=MjkwNDYzNDU2",
         "https://www.douban.com/group/topic/336009222/?_spm_id=MTgyMzEwODI1",
         "https://www.douban.com/group/topic/336404822/?_spm_id=MjE0MTU0MDQw",
         "https://www.douban.com/group/topic/292674582/?_spm_id=MTYzMTA2Mjg0",
         "https://www.douban.com/group/topic/336331864/?_spm_id=MTk5MzgwNTQx",
         "https://www.douban.com/group/topic/335943923/?_spm_id=Mjg1OTY1NTYw",
         "https://www.douban.com/group/topic/336299357/?_spm_id=MjUwNTQ4MTc0",
         "https://www.douban.com/group/topic/330951209/?_spm_id=Mjg5MTY5MTQ3",
         "https://www.douban.com/group/topic/336231331/?_spm_id=MjkwNDYzNDU2",
         "https://www.douban.com/group/topic/327685862/?_spm_id=MTkzMzg1MTQ3",
         "https://www.douban.com/group/topic/312623378/?_spm_id=MjcxMzU5NzA4",
         "https://www.douban.com/group/topic/336159174/?_spm_id=MTgzOTYzOTQ0",
         "https://www.douban.com/group/topic/311017196/?_spm_id=MTk4OTcwOTAw",
         null,
         null,
         null,
         null,
         null,
         null,
         null
        ],
        [
         "2",
         "https://www.douban.com/group/topic/336231331/?_spm_id=MjkwNDYzNDU2",
         "https://www.douban.com/group/topic/327685862/?_spm_id=MTkzMzg1MTQ3",
         "https://www.douban.com/group/topic/312623378/?_spm_id=MjcxMzU5NzA4",
         "https://www.douban.com/group/topic/336159174/?_spm_id=MTgzOTYzOTQ0",
         "https://www.douban.com/group/topic/311017196/?_spm_id=MTk4OTcwOTAw",
         "https://www.douban.com/group/topic/336125847/?_spm_id=Mjc2NTY3MjQ0",
         "https://www.douban.com/group/topic/336096630/?_spm_id=MTg0MDQxNzAw",
         "https://www.douban.com/group/topic/321021592/?_spm_id=Mjc1NDA1NTg5",
         "https://www.douban.com/group/topic/208950601/?_spm_id=MTY3OTEzNTQ3",
         "https://www.douban.com/group/topic/335910677/?_spm_id=MjU0MDU0ODU5",
         "https://www.douban.com/group/topic/335716190/?_spm_id=Mjc5NDMzNjgy",
         "https://www.douban.com/group/topic/335935322/?_spm_id=Mjg5MzA2MDE1",
         "https://www.douban.com/group/topic/329313896/?_spm_id=MTc0MzI0NzY0",
         "https://www.douban.com/group/topic/335880072/?_spm_id=MTc0MDQ1NDI2",
         "https://www.douban.com/group/topic/328903524/?_spm_id=MjE2MjY5NzQ0",
         "https://www.douban.com/group/topic/305448202/?_spm_id=MjMyMzg1OTA1",
         "https://www.douban.com/group/topic/320823734/?_spm_id=MjE4ODIzMzE5",
         "https://www.douban.com/group/topic/335676129/?_spm_id=MTY4NjE4Nzc5",
         "https://www.douban.com/group/topic/335843319/?_spm_id=MjQzODU0MzA1",
         "https://www.douban.com/group/topic/333191152/?_spm_id=MjU3MDQzMTYx",
         "https://www.douban.com/group/topic/335807855/?_spm_id=Mjg1OTY1NTYw",
         "https://www.douban.com/group/topic/324196135/?_spm_id=MTc0MjcyMjY3",
         "https://www.douban.com/group/topic/335772496/?_spm_id=MTgzNDI5MTMy",
         "https://www.douban.com/group/topic/335768982/?_spm_id=MjcxMjE0MTQ3",
         "https://www.douban.com/group/topic/296149011/?_spm_id=MjM2NzM3ODg0",
         "https://www.douban.com/group/topic/311433379/?_spm_id=MjMyNjQyODI2",
         "https://www.douban.com/group/topic/335638015/?_spm_id=MjYxMzUwMTQy",
         "https://www.douban.com/group/topic/335606411/?_spm_id=MjcxMjE0MTQ3",
         null,
         null,
         null,
         null,
         null,
         null,
         null,
         null
        ],
        [
         "3",
         "https://www.douban.com/group/topic/296149011/?_spm_id=MjM2NzM3ODg0",
         "https://www.douban.com/group/topic/311433379/?_spm_id=MjMyNjQyODI2",
         "https://www.douban.com/group/topic/335638015/?_spm_id=MjYxMzUwMTQy",
         "https://www.douban.com/group/topic/335606411/?_spm_id=MjcxMjE0MTQ3",
         "https://www.douban.com/group/topic/335570973/?_spm_id=MTg0NDYzNTE4",
         "https://www.douban.com/group/topic/335524047/?_spm_id=MjcxMjE0MTQ3",
         "https://www.douban.com/group/topic/335523265/?_spm_id=MzcwNzA3NTI",
         "https://www.douban.com/group/topic/335502760/?_spm_id=Mjg1OTY1NTYw",
         "https://www.douban.com/group/topic/327288088/?_spm_id=MjYzOTkxMDY4",
         "https://www.douban.com/group/topic/293654971/?_spm_id=MjA3OTMwOTU3",
         "https://www.douban.com/group/topic/335430709/?_spm_id=Mjg4NzM2NDI3",
         "https://www.douban.com/group/topic/335390874/?_spm_id=MTE1MjYzNjI2",
         "https://www.douban.com/group/topic/335384503/?_spm_id=MjcxMjE0MTQ3",
         "https://www.douban.com/group/topic/335378535/?_spm_id=Mjc4NTk0OTI0",
         "https://www.douban.com/group/topic/335342265/?_spm_id=MjI3MTY4NTc5",
         "https://www.douban.com/group/topic/335252899/?_spm_id=Mjg3MDczMzkx",
         "https://www.douban.com/group/topic/335212324/?_spm_id=MjkwODk1MzA2",
         "https://www.douban.com/group/topic/334236808/?_spm_id=MjExMDg2MDIx",
         "https://www.douban.com/group/topic/335185509/?_spm_id=MjgzNTgyMTE0",
         "https://www.douban.com/group/topic/335157455/?_spm_id=MjE1NjgwNTA3",
         "https://www.douban.com/group/topic/335155514/?_spm_id=Mjg3MDczMzkx",
         "https://www.douban.com/group/topic/335142149/?_spm_id=MjI1NDI1NTcy",
         "https://www.douban.com/group/topic/335123216/?_spm_id=MjkwODcyOTMy",
         "https://www.douban.com/group/topic/335116273/?_spm_id=MjA2NTM2NjI5",
         "https://www.douban.com/group/topic/230586073/?_spm_id=NTgwMjU2MzY",
         "https://www.douban.com/group/topic/333099355/?_spm_id=MTgxNDQ1NTE3",
         "https://www.douban.com/group/topic/334349459/?_spm_id=MjI2MzA3MjIx",
         "https://www.douban.com/group/topic/321330851/?_spm_id=MTk2ODEzMDQ1",
         null,
         null,
         null,
         null,
         null,
         null,
         null,
         null
        ],
        [
         "4",
         "https://www.douban.com/group/topic/335116273/?_spm_id=MjA2NTM2NjI5",
         "https://www.douban.com/group/topic/230586073/?_spm_id=NTgwMjU2MzY",
         "https://www.douban.com/group/topic/333099355/?_spm_id=MTgxNDQ1NTE3",
         "https://www.douban.com/group/topic/334349459/?_spm_id=MjI2MzA3MjIx",
         "https://www.douban.com/group/topic/321330851/?_spm_id=MTk2ODEzMDQ1",
         "https://www.douban.com/group/topic/309672943/?_spm_id=MTkzMjA0ODg1",
         "https://www.douban.com/group/topic/334925405/?_spm_id=MjczNjQ5Njc5",
         "https://www.douban.com/group/topic/328605236/?_spm_id=MjU4NzEyNzUy",
         "https://www.douban.com/group/topic/334884374/?_spm_id=MjY0NjcwODMz",
         "https://www.douban.com/group/topic/334747493/?_spm_id=MjU0MzM3MDg0",
         "https://www.douban.com/group/topic/322608600/?_spm_id=Mjg2NzcyOTAw",
         "https://www.douban.com/group/topic/334090684/?_spm_id=Mjc4MzE2OTIy",
         "https://www.douban.com/group/topic/334711548/?_spm_id=MjI1NDI1NTcy",
         "https://www.douban.com/group/topic/321880386/?_spm_id=Mjg2NzcyOTAw",
         "https://www.douban.com/group/topic/322608601/?_spm_id=Mjg2NzcyOTAw",
         "https://www.douban.com/group/topic/332147275/?_spm_id=Mjg2NzcyOTAw",
         "https://www.douban.com/group/topic/334663106/?_spm_id=MjkwNzYzNTI5",
         "https://www.douban.com/group/topic/136748384/?_spm_id=MTU0MTA5MTMx",
         "https://www.douban.com/group/topic/334020432/?_spm_id=MjYzMzExNzY1",
         "https://www.douban.com/group/topic/334488781/?_spm_id=MjAyNjgyNjAy",
         "https://www.douban.com/group/topic/334021101/?_spm_id=MTk4OTcwOTAw",
         "https://www.douban.com/group/topic/334465143/?_spm_id=Mjc3MDk3NDQ3",
         "https://www.douban.com/group/topic/291526494/?_spm_id=MjIyMTkyMjgw",
         "https://www.douban.com/group/topic/333581483/?_spm_id=MjE5ODI1OTQ5",
         "https://www.douban.com/group/topic/333574914/?_spm_id=MTczODg0NjMz",
         "https://www.douban.com/group/topic/312465703/?_spm_id=MjYzNTYwNzE1",
         "https://www.douban.com/group/topic/313102577/?_spm_id=MjI5NjE1OTky",
         "https://www.douban.com/group/topic/334317164/?_spm_id=MjIxNzUyNTQy",
         "https://www.douban.com/group/topic/309240761/?_spm_id=MjAyMjk3MTc4",
         "https://www.douban.com/group/topic/323681025/?_spm_id=MTkzNDk1MTk1",
         null,
         null,
         null,
         null,
         null,
         null
        ],
        [
         "5",
         "https://www.douban.com/group/topic/312465703/?_spm_id=MjYzNTYwNzE1",
         "https://www.douban.com/group/topic/313102577/?_spm_id=MjI5NjE1OTky",
         "https://www.douban.com/group/topic/334317164/?_spm_id=MjIxNzUyNTQy",
         "https://www.douban.com/group/topic/309240761/?_spm_id=MjAyMjk3MTc4",
         "https://www.douban.com/group/topic/323681025/?_spm_id=MTkzNDk1MTk1",
         "https://www.douban.com/group/topic/334099706/?_spm_id=MjkwNjAyNzMx",
         "https://www.douban.com/group/topic/332153202/?_spm_id=MjAwNzU5NzM2",
         "https://www.douban.com/group/topic/333930111/?_spm_id=MTg3NzA4MjMx",
         "https://www.douban.com/group/topic/333883487/?_spm_id=MjM1NDM0ODY0",
         "https://www.douban.com/group/topic/333867462/?_spm_id=Mjc2NTUxOTgw",
         "https://www.douban.com/group/topic/333797307/?_spm_id=MTc4MTcxMjk5",
         "https://www.douban.com/group/topic/333784887/?_spm_id=MjUyODE0MzIy",
         "https://www.douban.com/group/topic/333778142/?_spm_id=MjcwNDY1MDU1",
         "https://www.douban.com/group/topic/270398203/?_spm_id=MTM4MDk2NTg5",
         "https://www.douban.com/group/topic/333709613/?_spm_id=MTkyNzE3MTI1",
         "https://www.douban.com/group/topic/324639118/?_spm_id=MTg1MTM2NDkz",
         "https://www.douban.com/group/topic/333276047/?_spm_id=Mjg3MDU3NDQw",
         "https://www.douban.com/group/topic/162054575/?_spm_id=MjA4NjQ3NTk0",
         "https://www.douban.com/group/topic/333574149/?_spm_id=MTY2NjI5MjUw",
         "https://www.douban.com/group/topic/333534749/?_spm_id=MTY2MzYwMjg0",
         "https://www.douban.com/group/topic/333433672/?_spm_id=MTc3Nzc3MTk5",
         "https://www.douban.com/group/topic/333406305/?_spm_id=OTMxNTIxMDk",
         "https://www.douban.com/group/topic/333339832/?_spm_id=MjY1MjI2MjAw",
         "https://www.douban.com/group/topic/333314995/?_spm_id=MTk1MDMzNTE2",
         "https://www.douban.com/group/topic/333273465/?_spm_id=MTQzNDU1MDcz",
         "https://www.douban.com/group/topic/333301003/?_spm_id=MjI0Njc2MzQw",
         "https://www.douban.com/group/topic/316033576/?_spm_id=MjI3NzkwOTA0",
         "https://www.douban.com/group/topic/287939859/?_spm_id=MjYzOTUxODI1",
         null,
         null,
         null,
         null,
         null,
         null,
         null,
         null
        ],
        [
         "6",
         "https://www.douban.com/group/topic/333314995/?_spm_id=MTk1MDMzNTE2",
         "https://www.douban.com/group/topic/333273465/?_spm_id=MTQzNDU1MDcz",
         "https://www.douban.com/group/topic/333301003/?_spm_id=MjI0Njc2MzQw",
         "https://www.douban.com/group/topic/316033576/?_spm_id=MjI3NzkwOTA0",
         "https://www.douban.com/group/topic/287939859/?_spm_id=MjYzOTUxODI1",
         "https://www.douban.com/group/topic/333209328/?_spm_id=MTM4NTgxOTQw",
         "https://www.douban.com/group/topic/333180449/?_spm_id=Mjc5OTk4MzM0",
         "https://www.douban.com/group/topic/291280846/?_spm_id=MjIyMTkyMjgw",
         "https://www.douban.com/group/topic/333117091/?_spm_id=MjIyMTkyMjgw",
         "https://www.douban.com/group/topic/278758907/?_spm_id=MTcwMTQ5NjM1",
         "https://www.douban.com/group/topic/333080842/?_spm_id=MjAyNjUzMDAx",
         "https://www.douban.com/group/topic/333035386/?_spm_id=MjA0MzM4MjYx",
         "https://www.douban.com/group/topic/300852953/?_spm_id=MTY1MTg4MDA1",
         "https://www.douban.com/group/topic/333001538/?_spm_id=MTg5MDkwOTk3",
         "https://www.douban.com/group/topic/319074145/?_spm_id=MjMxMjMzNDI3",
         "https://www.douban.com/group/topic/332929734/?_spm_id=MjkwMTYyOTI4",
         "https://www.douban.com/group/topic/332572092/?_spm_id=Mjc1NjkyNTg3",
         "https://www.douban.com/group/topic/332861945/?_spm_id=MjcyMzYwMzAz",
         "https://www.douban.com/group/topic/332831533/?_spm_id=Mjg4NDU4OTIz",
         "https://www.douban.com/group/topic/332022586/?_spm_id=MTk3OTQ3ODQ2",
         "https://www.douban.com/group/topic/332807724/?_spm_id=MjA2MDM1NzU2",
         "https://www.douban.com/group/topic/332575315/?_spm_id=MTQ4OTMwMTgx",
         "https://www.douban.com/group/topic/332670920/?_spm_id=MjQ2NDM5NTQ3",
         "https://www.douban.com/group/topic/305098676/?_spm_id=MjMyNjQyODI2",
         "https://www.douban.com/group/topic/332657851/?_spm_id=MjE5Mzc0NDk2",
         "https://www.douban.com/group/topic/332158680/?_spm_id=MjkwMDU5NjU2",
         "https://www.douban.com/group/topic/332406520/?_spm_id=MTM5MDMxNjky",
         "https://www.douban.com/group/topic/332620128/?_spm_id=NDg4ODY2NTY",
         null,
         null,
         null,
         null,
         null,
         null,
         null,
         null
        ],
        [
         "7",
         "https://www.douban.com/group/topic/305098676/?_spm_id=MjMyNjQyODI2",
         "https://www.douban.com/group/topic/332657851/?_spm_id=MjE5Mzc0NDk2",
         "https://www.douban.com/group/topic/332158680/?_spm_id=MjkwMDU5NjU2",
         "https://www.douban.com/group/topic/332406520/?_spm_id=MTM5MDMxNjky",
         "https://www.douban.com/group/topic/332620128/?_spm_id=NDg4ODY2NTY",
         "https://www.douban.com/group/topic/332611536/?_spm_id=MTUxMjMyOTk0",
         "https://www.douban.com/group/topic/332564306/?_spm_id=MjAyNTAzNzk3",
         "https://www.douban.com/group/topic/332555305/?_spm_id=MTQ1NDc2MTQ5",
         "https://www.douban.com/group/topic/332512586/?_spm_id=MTg5NDQwMjQ0",
         "https://www.douban.com/group/topic/330873234/?_spm_id=MTc3ODMwMzg4",
         "https://www.douban.com/group/topic/329294780/?_spm_id=MjczNzMwMTE0",
         "https://www.douban.com/group/topic/332428068/?_spm_id=NDg3NDIyMjc",
         "https://www.douban.com/group/topic/332383636/?_spm_id=MjIxMDc5OTQw",
         "https://www.douban.com/group/topic/300020438/?_spm_id=MTg4OTAzMTE4",
         "https://www.douban.com/group/topic/332285736/?_spm_id=MjYxMzUwMTQy",
         "https://www.douban.com/group/topic/332125748/?_spm_id=MjAxMzM3NjU5",
         "https://www.douban.com/group/topic/332159522/?_spm_id=Mjc4MTY2MDIy",
         "https://www.douban.com/group/topic/332035250/?_spm_id=MjY2ODg3NzM1",
         "https://www.douban.com/group/topic/304739765/?_spm_id=MjA0MDQ2MzM1",
         "https://www.douban.com/group/topic/331949154/?_spm_id=MjE5ODAyMzcy",
         "https://www.douban.com/group/topic/331935578/?_spm_id=MjUwNjE5MzM4",
         "https://www.douban.com/group/topic/331863001/?_spm_id=Njc1MDQzMTg",
         "https://www.douban.com/group/topic/331712059/?_spm_id=MjkwMDU5NjU2",
         "https://www.douban.com/group/topic/331741298/?_spm_id=Mjg4NzM2NDI3",
         "https://www.douban.com/group/topic/214700417/?_spm_id=MTUxNzU0Mjcz",
         "https://www.douban.com/group/topic/173577661/?_spm_id=MTcxMjYzMjQ0",
         "https://www.douban.com/group/topic/331691095/?_spm_id=MjIxMzEyOTI2",
         null,
         null,
         null,
         null,
         null,
         null,
         null,
         null,
         null
        ],
        [
         "8",
         "https://www.douban.com/group/topic/331712059/?_spm_id=MjkwMDU5NjU2",
         "https://www.douban.com/group/topic/331741298/?_spm_id=Mjg4NzM2NDI3",
         "https://www.douban.com/group/topic/214700417/?_spm_id=MTUxNzU0Mjcz",
         "https://www.douban.com/group/topic/173577661/?_spm_id=MTcxMjYzMjQ0",
         "https://www.douban.com/group/topic/331691095/?_spm_id=MjIxMzEyOTI2",
         "https://www.douban.com/group/topic/331623342/?_spm_id=MTgyMDE3NTA0",
         "https://www.douban.com/group/topic/331606150/?_spm_id=MTk4MDc0NDUy",
         "https://www.douban.com/group/topic/331535860/?_spm_id=MTI0NTU5NTE1",
         "https://www.douban.com/group/topic/226202027/?_spm_id=MTU1OTc1NTE4",
         "https://www.douban.com/group/topic/331469496/?_spm_id=MTQ0MDgwNzQ",
         "https://www.douban.com/group/topic/331468023/?_spm_id=MjU2OTA0MDg5",
         "https://www.douban.com/group/topic/331445706/?_spm_id=MjE2ODg2MTg4",
         "https://www.douban.com/group/topic/321252592/?_spm_id=MjUyNzgxNTI0",
         "https://www.douban.com/group/topic/331372409/?_spm_id=MjM2MTUyMzM0",
         "https://www.douban.com/group/topic/322890490/?_spm_id=MjM0NjQ0OTUw",
         "https://www.douban.com/group/topic/329239914/?_spm_id=MjAwOTE4MTkx",
         "https://www.douban.com/group/topic/331238867/?_spm_id=MTkxOTk5MDA0",
         "https://www.douban.com/group/topic/140555401/?_spm_id=MTY3NDc5MzAx",
         "https://www.douban.com/group/topic/330788953/?_spm_id=MjgxOTQ4NjI1",
         "https://www.douban.com/group/topic/331124993/?_spm_id=MjUxNDQ0ODQ5",
         "https://www.douban.com/group/topic/331008459/?_spm_id=MjY0Mzk2NDQ4",
         "https://www.douban.com/group/topic/330911320/?_spm_id=MTU5NDE4NDE0",
         "https://www.douban.com/group/topic/326293848/?_spm_id=MjY1OTAwNDEy",
         "https://www.douban.com/group/topic/330861520/?_spm_id=NTU4MjgwODY",
         "https://www.douban.com/group/topic/287761818/?_spm_id=MTM1MTI2OTEz",
         "https://www.douban.com/group/topic/296906965/?_spm_id=MjEwMzg3NzY4",
         "https://www.douban.com/group/topic/330720667/?_spm_id=MTc0MDQ1NDI2",
         "https://www.douban.com/group/topic/328983187/?_spm_id=Mjc5MTMxNTUz",
         "https://www.douban.com/group/topic/330671135/?_spm_id=MTg3Njg2NTc3",
         "https://www.douban.com/group/topic/330535697/?_spm_id=MjE5Mzc0NDk2",
         null,
         null,
         null,
         null,
         null,
         null
        ]
       ],
       "shape": {
        "columns": 36,
        "rows": 9
       }
      },
      "text/html": [
       "<div>\n",
       "<style scoped>\n",
       "    .dataframe tbody tr th:only-of-type {\n",
       "        vertical-align: middle;\n",
       "    }\n",
       "\n",
       "    .dataframe tbody tr th {\n",
       "        vertical-align: top;\n",
       "    }\n",
       "\n",
       "    .dataframe thead th {\n",
       "        text-align: right;\n",
       "    }\n",
       "</style>\n",
       "<table border=\"1\" class=\"dataframe\">\n",
       "  <thead>\n",
       "    <tr style=\"text-align: right;\">\n",
       "      <th></th>\n",
       "      <th>0</th>\n",
       "      <th>1</th>\n",
       "      <th>2</th>\n",
       "      <th>3</th>\n",
       "      <th>4</th>\n",
       "      <th>5</th>\n",
       "      <th>6</th>\n",
       "      <th>7</th>\n",
       "      <th>8</th>\n",
       "      <th>9</th>\n",
       "      <th>...</th>\n",
       "      <th>26</th>\n",
       "      <th>27</th>\n",
       "      <th>28</th>\n",
       "      <th>29</th>\n",
       "      <th>30</th>\n",
       "      <th>31</th>\n",
       "      <th>32</th>\n",
       "      <th>33</th>\n",
       "      <th>34</th>\n",
       "      <th>35</th>\n",
       "    </tr>\n",
       "  </thead>\n",
       "  <tbody>\n",
       "    <tr>\n",
       "      <th>0</th>\n",
       "      <td>https://www.douban.com/group/topic/80204323/?_...</td>\n",
       "      <td>https://www.douban.com/group/topic/2140504/?_s...</td>\n",
       "      <td>https://www.douban.com/group/topic/1052490/?_s...</td>\n",
       "      <td>https://www.douban.com/group/topic/289012478/?...</td>\n",
       "      <td>https://www.douban.com/group/topic/289029665/?...</td>\n",
       "      <td>https://www.douban.com/group/topic/289012511/?...</td>\n",
       "      <td>https://www.douban.com/group/topic/289012578/?...</td>\n",
       "      <td>https://www.douban.com/group/topic/337201546/?...</td>\n",
       "      <td>https://www.douban.com/group/topic/337028675/?...</td>\n",
       "      <td>https://www.douban.com/group/topic/336581851/?...</td>\n",
       "      <td>...</td>\n",
       "      <td>https://www.douban.com/group/topic/336706576/?...</td>\n",
       "      <td>https://www.douban.com/group/topic/325638101/?...</td>\n",
       "      <td>https://www.douban.com/group/topic/248204845/?...</td>\n",
       "      <td>https://www.douban.com/group/topic/336955404/?...</td>\n",
       "      <td>https://www.douban.com/group/topic/336901822/?...</td>\n",
       "      <td>https://www.douban.com/group/topic/326444319/?...</td>\n",
       "      <td>https://www.douban.com/group/topic/336792105/?...</td>\n",
       "      <td>https://www.douban.com/group/topic/336140088/?...</td>\n",
       "      <td>https://www.douban.com/group/topic/336478156/?...</td>\n",
       "      <td>https://www.douban.com/group/topic/336561536/?...</td>\n",
       "    </tr>\n",
       "    <tr>\n",
       "      <th>1</th>\n",
       "      <td>https://www.douban.com/group/topic/326444319/?...</td>\n",
       "      <td>https://www.douban.com/group/topic/336792105/?...</td>\n",
       "      <td>https://www.douban.com/group/topic/336140088/?...</td>\n",
       "      <td>https://www.douban.com/group/topic/336478156/?...</td>\n",
       "      <td>https://www.douban.com/group/topic/336561536/?...</td>\n",
       "      <td>https://www.douban.com/group/topic/336674429/?...</td>\n",
       "      <td>https://www.douban.com/group/topic/336633461/?...</td>\n",
       "      <td>https://www.douban.com/group/topic/336631010/?...</td>\n",
       "      <td>https://www.douban.com/group/topic/336616838/?...</td>\n",
       "      <td>https://www.douban.com/group/topic/336600475/?...</td>\n",
       "      <td>...</td>\n",
       "      <td>https://www.douban.com/group/topic/312623378/?...</td>\n",
       "      <td>https://www.douban.com/group/topic/336159174/?...</td>\n",
       "      <td>https://www.douban.com/group/topic/311017196/?...</td>\n",
       "      <td>NaN</td>\n",
       "      <td>NaN</td>\n",
       "      <td>NaN</td>\n",
       "      <td>NaN</td>\n",
       "      <td>NaN</td>\n",
       "      <td>NaN</td>\n",
       "      <td>NaN</td>\n",
       "    </tr>\n",
       "    <tr>\n",
       "      <th>2</th>\n",
       "      <td>https://www.douban.com/group/topic/336231331/?...</td>\n",
       "      <td>https://www.douban.com/group/topic/327685862/?...</td>\n",
       "      <td>https://www.douban.com/group/topic/312623378/?...</td>\n",
       "      <td>https://www.douban.com/group/topic/336159174/?...</td>\n",
       "      <td>https://www.douban.com/group/topic/311017196/?...</td>\n",
       "      <td>https://www.douban.com/group/topic/336125847/?...</td>\n",
       "      <td>https://www.douban.com/group/topic/336096630/?...</td>\n",
       "      <td>https://www.douban.com/group/topic/321021592/?...</td>\n",
       "      <td>https://www.douban.com/group/topic/208950601/?...</td>\n",
       "      <td>https://www.douban.com/group/topic/335910677/?...</td>\n",
       "      <td>...</td>\n",
       "      <td>https://www.douban.com/group/topic/335638015/?...</td>\n",
       "      <td>https://www.douban.com/group/topic/335606411/?...</td>\n",
       "      <td>NaN</td>\n",
       "      <td>NaN</td>\n",
       "      <td>NaN</td>\n",
       "      <td>NaN</td>\n",
       "      <td>NaN</td>\n",
       "      <td>NaN</td>\n",
       "      <td>NaN</td>\n",
       "      <td>NaN</td>\n",
       "    </tr>\n",
       "    <tr>\n",
       "      <th>3</th>\n",
       "      <td>https://www.douban.com/group/topic/296149011/?...</td>\n",
       "      <td>https://www.douban.com/group/topic/311433379/?...</td>\n",
       "      <td>https://www.douban.com/group/topic/335638015/?...</td>\n",
       "      <td>https://www.douban.com/group/topic/335606411/?...</td>\n",
       "      <td>https://www.douban.com/group/topic/335570973/?...</td>\n",
       "      <td>https://www.douban.com/group/topic/335524047/?...</td>\n",
       "      <td>https://www.douban.com/group/topic/335523265/?...</td>\n",
       "      <td>https://www.douban.com/group/topic/335502760/?...</td>\n",
       "      <td>https://www.douban.com/group/topic/327288088/?...</td>\n",
       "      <td>https://www.douban.com/group/topic/293654971/?...</td>\n",
       "      <td>...</td>\n",
       "      <td>https://www.douban.com/group/topic/334349459/?...</td>\n",
       "      <td>https://www.douban.com/group/topic/321330851/?...</td>\n",
       "      <td>NaN</td>\n",
       "      <td>NaN</td>\n",
       "      <td>NaN</td>\n",
       "      <td>NaN</td>\n",
       "      <td>NaN</td>\n",
       "      <td>NaN</td>\n",
       "      <td>NaN</td>\n",
       "      <td>NaN</td>\n",
       "    </tr>\n",
       "    <tr>\n",
       "      <th>4</th>\n",
       "      <td>https://www.douban.com/group/topic/335116273/?...</td>\n",
       "      <td>https://www.douban.com/group/topic/230586073/?...</td>\n",
       "      <td>https://www.douban.com/group/topic/333099355/?...</td>\n",
       "      <td>https://www.douban.com/group/topic/334349459/?...</td>\n",
       "      <td>https://www.douban.com/group/topic/321330851/?...</td>\n",
       "      <td>https://www.douban.com/group/topic/309672943/?...</td>\n",
       "      <td>https://www.douban.com/group/topic/334925405/?...</td>\n",
       "      <td>https://www.douban.com/group/topic/328605236/?...</td>\n",
       "      <td>https://www.douban.com/group/topic/334884374/?...</td>\n",
       "      <td>https://www.douban.com/group/topic/334747493/?...</td>\n",
       "      <td>...</td>\n",
       "      <td>https://www.douban.com/group/topic/313102577/?...</td>\n",
       "      <td>https://www.douban.com/group/topic/334317164/?...</td>\n",
       "      <td>https://www.douban.com/group/topic/309240761/?...</td>\n",
       "      <td>https://www.douban.com/group/topic/323681025/?...</td>\n",
       "      <td>NaN</td>\n",
       "      <td>NaN</td>\n",
       "      <td>NaN</td>\n",
       "      <td>NaN</td>\n",
       "      <td>NaN</td>\n",
       "      <td>NaN</td>\n",
       "    </tr>\n",
       "    <tr>\n",
       "      <th>5</th>\n",
       "      <td>https://www.douban.com/group/topic/312465703/?...</td>\n",
       "      <td>https://www.douban.com/group/topic/313102577/?...</td>\n",
       "      <td>https://www.douban.com/group/topic/334317164/?...</td>\n",
       "      <td>https://www.douban.com/group/topic/309240761/?...</td>\n",
       "      <td>https://www.douban.com/group/topic/323681025/?...</td>\n",
       "      <td>https://www.douban.com/group/topic/334099706/?...</td>\n",
       "      <td>https://www.douban.com/group/topic/332153202/?...</td>\n",
       "      <td>https://www.douban.com/group/topic/333930111/?...</td>\n",
       "      <td>https://www.douban.com/group/topic/333883487/?...</td>\n",
       "      <td>https://www.douban.com/group/topic/333867462/?...</td>\n",
       "      <td>...</td>\n",
       "      <td>https://www.douban.com/group/topic/316033576/?...</td>\n",
       "      <td>https://www.douban.com/group/topic/287939859/?...</td>\n",
       "      <td>NaN</td>\n",
       "      <td>NaN</td>\n",
       "      <td>NaN</td>\n",
       "      <td>NaN</td>\n",
       "      <td>NaN</td>\n",
       "      <td>NaN</td>\n",
       "      <td>NaN</td>\n",
       "      <td>NaN</td>\n",
       "    </tr>\n",
       "    <tr>\n",
       "      <th>6</th>\n",
       "      <td>https://www.douban.com/group/topic/333314995/?...</td>\n",
       "      <td>https://www.douban.com/group/topic/333273465/?...</td>\n",
       "      <td>https://www.douban.com/group/topic/333301003/?...</td>\n",
       "      <td>https://www.douban.com/group/topic/316033576/?...</td>\n",
       "      <td>https://www.douban.com/group/topic/287939859/?...</td>\n",
       "      <td>https://www.douban.com/group/topic/333209328/?...</td>\n",
       "      <td>https://www.douban.com/group/topic/333180449/?...</td>\n",
       "      <td>https://www.douban.com/group/topic/291280846/?...</td>\n",
       "      <td>https://www.douban.com/group/topic/333117091/?...</td>\n",
       "      <td>https://www.douban.com/group/topic/278758907/?...</td>\n",
       "      <td>...</td>\n",
       "      <td>https://www.douban.com/group/topic/332406520/?...</td>\n",
       "      <td>https://www.douban.com/group/topic/332620128/?...</td>\n",
       "      <td>NaN</td>\n",
       "      <td>NaN</td>\n",
       "      <td>NaN</td>\n",
       "      <td>NaN</td>\n",
       "      <td>NaN</td>\n",
       "      <td>NaN</td>\n",
       "      <td>NaN</td>\n",
       "      <td>NaN</td>\n",
       "    </tr>\n",
       "    <tr>\n",
       "      <th>7</th>\n",
       "      <td>https://www.douban.com/group/topic/305098676/?...</td>\n",
       "      <td>https://www.douban.com/group/topic/332657851/?...</td>\n",
       "      <td>https://www.douban.com/group/topic/332158680/?...</td>\n",
       "      <td>https://www.douban.com/group/topic/332406520/?...</td>\n",
       "      <td>https://www.douban.com/group/topic/332620128/?...</td>\n",
       "      <td>https://www.douban.com/group/topic/332611536/?...</td>\n",
       "      <td>https://www.douban.com/group/topic/332564306/?...</td>\n",
       "      <td>https://www.douban.com/group/topic/332555305/?...</td>\n",
       "      <td>https://www.douban.com/group/topic/332512586/?...</td>\n",
       "      <td>https://www.douban.com/group/topic/330873234/?...</td>\n",
       "      <td>...</td>\n",
       "      <td>https://www.douban.com/group/topic/331691095/?...</td>\n",
       "      <td>NaN</td>\n",
       "      <td>NaN</td>\n",
       "      <td>NaN</td>\n",
       "      <td>NaN</td>\n",
       "      <td>NaN</td>\n",
       "      <td>NaN</td>\n",
       "      <td>NaN</td>\n",
       "      <td>NaN</td>\n",
       "      <td>NaN</td>\n",
       "    </tr>\n",
       "    <tr>\n",
       "      <th>8</th>\n",
       "      <td>https://www.douban.com/group/topic/331712059/?...</td>\n",
       "      <td>https://www.douban.com/group/topic/331741298/?...</td>\n",
       "      <td>https://www.douban.com/group/topic/214700417/?...</td>\n",
       "      <td>https://www.douban.com/group/topic/173577661/?...</td>\n",
       "      <td>https://www.douban.com/group/topic/331691095/?...</td>\n",
       "      <td>https://www.douban.com/group/topic/331623342/?...</td>\n",
       "      <td>https://www.douban.com/group/topic/331606150/?...</td>\n",
       "      <td>https://www.douban.com/group/topic/331535860/?...</td>\n",
       "      <td>https://www.douban.com/group/topic/226202027/?...</td>\n",
       "      <td>https://www.douban.com/group/topic/331469496/?...</td>\n",
       "      <td>...</td>\n",
       "      <td>https://www.douban.com/group/topic/330720667/?...</td>\n",
       "      <td>https://www.douban.com/group/topic/328983187/?...</td>\n",
       "      <td>https://www.douban.com/group/topic/330671135/?...</td>\n",
       "      <td>https://www.douban.com/group/topic/330535697/?...</td>\n",
       "      <td>NaN</td>\n",
       "      <td>NaN</td>\n",
       "      <td>NaN</td>\n",
       "      <td>NaN</td>\n",
       "      <td>NaN</td>\n",
       "      <td>NaN</td>\n",
       "    </tr>\n",
       "  </tbody>\n",
       "</table>\n",
       "<p>9 rows × 36 columns</p>\n",
       "</div>"
      ],
      "text/plain": [
       "                                                   0  \\\n",
       "0  https://www.douban.com/group/topic/80204323/?_...   \n",
       "1  https://www.douban.com/group/topic/326444319/?...   \n",
       "2  https://www.douban.com/group/topic/336231331/?...   \n",
       "3  https://www.douban.com/group/topic/296149011/?...   \n",
       "4  https://www.douban.com/group/topic/335116273/?...   \n",
       "5  https://www.douban.com/group/topic/312465703/?...   \n",
       "6  https://www.douban.com/group/topic/333314995/?...   \n",
       "7  https://www.douban.com/group/topic/305098676/?...   \n",
       "8  https://www.douban.com/group/topic/331712059/?...   \n",
       "\n",
       "                                                   1  \\\n",
       "0  https://www.douban.com/group/topic/2140504/?_s...   \n",
       "1  https://www.douban.com/group/topic/336792105/?...   \n",
       "2  https://www.douban.com/group/topic/327685862/?...   \n",
       "3  https://www.douban.com/group/topic/311433379/?...   \n",
       "4  https://www.douban.com/group/topic/230586073/?...   \n",
       "5  https://www.douban.com/group/topic/313102577/?...   \n",
       "6  https://www.douban.com/group/topic/333273465/?...   \n",
       "7  https://www.douban.com/group/topic/332657851/?...   \n",
       "8  https://www.douban.com/group/topic/331741298/?...   \n",
       "\n",
       "                                                   2  \\\n",
       "0  https://www.douban.com/group/topic/1052490/?_s...   \n",
       "1  https://www.douban.com/group/topic/336140088/?...   \n",
       "2  https://www.douban.com/group/topic/312623378/?...   \n",
       "3  https://www.douban.com/group/topic/335638015/?...   \n",
       "4  https://www.douban.com/group/topic/333099355/?...   \n",
       "5  https://www.douban.com/group/topic/334317164/?...   \n",
       "6  https://www.douban.com/group/topic/333301003/?...   \n",
       "7  https://www.douban.com/group/topic/332158680/?...   \n",
       "8  https://www.douban.com/group/topic/214700417/?...   \n",
       "\n",
       "                                                   3  \\\n",
       "0  https://www.douban.com/group/topic/289012478/?...   \n",
       "1  https://www.douban.com/group/topic/336478156/?...   \n",
       "2  https://www.douban.com/group/topic/336159174/?...   \n",
       "3  https://www.douban.com/group/topic/335606411/?...   \n",
       "4  https://www.douban.com/group/topic/334349459/?...   \n",
       "5  https://www.douban.com/group/topic/309240761/?...   \n",
       "6  https://www.douban.com/group/topic/316033576/?...   \n",
       "7  https://www.douban.com/group/topic/332406520/?...   \n",
       "8  https://www.douban.com/group/topic/173577661/?...   \n",
       "\n",
       "                                                   4  \\\n",
       "0  https://www.douban.com/group/topic/289029665/?...   \n",
       "1  https://www.douban.com/group/topic/336561536/?...   \n",
       "2  https://www.douban.com/group/topic/311017196/?...   \n",
       "3  https://www.douban.com/group/topic/335570973/?...   \n",
       "4  https://www.douban.com/group/topic/321330851/?...   \n",
       "5  https://www.douban.com/group/topic/323681025/?...   \n",
       "6  https://www.douban.com/group/topic/287939859/?...   \n",
       "7  https://www.douban.com/group/topic/332620128/?...   \n",
       "8  https://www.douban.com/group/topic/331691095/?...   \n",
       "\n",
       "                                                   5  \\\n",
       "0  https://www.douban.com/group/topic/289012511/?...   \n",
       "1  https://www.douban.com/group/topic/336674429/?...   \n",
       "2  https://www.douban.com/group/topic/336125847/?...   \n",
       "3  https://www.douban.com/group/topic/335524047/?...   \n",
       "4  https://www.douban.com/group/topic/309672943/?...   \n",
       "5  https://www.douban.com/group/topic/334099706/?...   \n",
       "6  https://www.douban.com/group/topic/333209328/?...   \n",
       "7  https://www.douban.com/group/topic/332611536/?...   \n",
       "8  https://www.douban.com/group/topic/331623342/?...   \n",
       "\n",
       "                                                   6  \\\n",
       "0  https://www.douban.com/group/topic/289012578/?...   \n",
       "1  https://www.douban.com/group/topic/336633461/?...   \n",
       "2  https://www.douban.com/group/topic/336096630/?...   \n",
       "3  https://www.douban.com/group/topic/335523265/?...   \n",
       "4  https://www.douban.com/group/topic/334925405/?...   \n",
       "5  https://www.douban.com/group/topic/332153202/?...   \n",
       "6  https://www.douban.com/group/topic/333180449/?...   \n",
       "7  https://www.douban.com/group/topic/332564306/?...   \n",
       "8  https://www.douban.com/group/topic/331606150/?...   \n",
       "\n",
       "                                                   7  \\\n",
       "0  https://www.douban.com/group/topic/337201546/?...   \n",
       "1  https://www.douban.com/group/topic/336631010/?...   \n",
       "2  https://www.douban.com/group/topic/321021592/?...   \n",
       "3  https://www.douban.com/group/topic/335502760/?...   \n",
       "4  https://www.douban.com/group/topic/328605236/?...   \n",
       "5  https://www.douban.com/group/topic/333930111/?...   \n",
       "6  https://www.douban.com/group/topic/291280846/?...   \n",
       "7  https://www.douban.com/group/topic/332555305/?...   \n",
       "8  https://www.douban.com/group/topic/331535860/?...   \n",
       "\n",
       "                                                   8  \\\n",
       "0  https://www.douban.com/group/topic/337028675/?...   \n",
       "1  https://www.douban.com/group/topic/336616838/?...   \n",
       "2  https://www.douban.com/group/topic/208950601/?...   \n",
       "3  https://www.douban.com/group/topic/327288088/?...   \n",
       "4  https://www.douban.com/group/topic/334884374/?...   \n",
       "5  https://www.douban.com/group/topic/333883487/?...   \n",
       "6  https://www.douban.com/group/topic/333117091/?...   \n",
       "7  https://www.douban.com/group/topic/332512586/?...   \n",
       "8  https://www.douban.com/group/topic/226202027/?...   \n",
       "\n",
       "                                                   9  ...  \\\n",
       "0  https://www.douban.com/group/topic/336581851/?...  ...   \n",
       "1  https://www.douban.com/group/topic/336600475/?...  ...   \n",
       "2  https://www.douban.com/group/topic/335910677/?...  ...   \n",
       "3  https://www.douban.com/group/topic/293654971/?...  ...   \n",
       "4  https://www.douban.com/group/topic/334747493/?...  ...   \n",
       "5  https://www.douban.com/group/topic/333867462/?...  ...   \n",
       "6  https://www.douban.com/group/topic/278758907/?...  ...   \n",
       "7  https://www.douban.com/group/topic/330873234/?...  ...   \n",
       "8  https://www.douban.com/group/topic/331469496/?...  ...   \n",
       "\n",
       "                                                  26  \\\n",
       "0  https://www.douban.com/group/topic/336706576/?...   \n",
       "1  https://www.douban.com/group/topic/312623378/?...   \n",
       "2  https://www.douban.com/group/topic/335638015/?...   \n",
       "3  https://www.douban.com/group/topic/334349459/?...   \n",
       "4  https://www.douban.com/group/topic/313102577/?...   \n",
       "5  https://www.douban.com/group/topic/316033576/?...   \n",
       "6  https://www.douban.com/group/topic/332406520/?...   \n",
       "7  https://www.douban.com/group/topic/331691095/?...   \n",
       "8  https://www.douban.com/group/topic/330720667/?...   \n",
       "\n",
       "                                                  27  \\\n",
       "0  https://www.douban.com/group/topic/325638101/?...   \n",
       "1  https://www.douban.com/group/topic/336159174/?...   \n",
       "2  https://www.douban.com/group/topic/335606411/?...   \n",
       "3  https://www.douban.com/group/topic/321330851/?...   \n",
       "4  https://www.douban.com/group/topic/334317164/?...   \n",
       "5  https://www.douban.com/group/topic/287939859/?...   \n",
       "6  https://www.douban.com/group/topic/332620128/?...   \n",
       "7                                                NaN   \n",
       "8  https://www.douban.com/group/topic/328983187/?...   \n",
       "\n",
       "                                                  28  \\\n",
       "0  https://www.douban.com/group/topic/248204845/?...   \n",
       "1  https://www.douban.com/group/topic/311017196/?...   \n",
       "2                                                NaN   \n",
       "3                                                NaN   \n",
       "4  https://www.douban.com/group/topic/309240761/?...   \n",
       "5                                                NaN   \n",
       "6                                                NaN   \n",
       "7                                                NaN   \n",
       "8  https://www.douban.com/group/topic/330671135/?...   \n",
       "\n",
       "                                                  29  \\\n",
       "0  https://www.douban.com/group/topic/336955404/?...   \n",
       "1                                                NaN   \n",
       "2                                                NaN   \n",
       "3                                                NaN   \n",
       "4  https://www.douban.com/group/topic/323681025/?...   \n",
       "5                                                NaN   \n",
       "6                                                NaN   \n",
       "7                                                NaN   \n",
       "8  https://www.douban.com/group/topic/330535697/?...   \n",
       "\n",
       "                                                  30  \\\n",
       "0  https://www.douban.com/group/topic/336901822/?...   \n",
       "1                                                NaN   \n",
       "2                                                NaN   \n",
       "3                                                NaN   \n",
       "4                                                NaN   \n",
       "5                                                NaN   \n",
       "6                                                NaN   \n",
       "7                                                NaN   \n",
       "8                                                NaN   \n",
       "\n",
       "                                                  31  \\\n",
       "0  https://www.douban.com/group/topic/326444319/?...   \n",
       "1                                                NaN   \n",
       "2                                                NaN   \n",
       "3                                                NaN   \n",
       "4                                                NaN   \n",
       "5                                                NaN   \n",
       "6                                                NaN   \n",
       "7                                                NaN   \n",
       "8                                                NaN   \n",
       "\n",
       "                                                  32  \\\n",
       "0  https://www.douban.com/group/topic/336792105/?...   \n",
       "1                                                NaN   \n",
       "2                                                NaN   \n",
       "3                                                NaN   \n",
       "4                                                NaN   \n",
       "5                                                NaN   \n",
       "6                                                NaN   \n",
       "7                                                NaN   \n",
       "8                                                NaN   \n",
       "\n",
       "                                                  33  \\\n",
       "0  https://www.douban.com/group/topic/336140088/?...   \n",
       "1                                                NaN   \n",
       "2                                                NaN   \n",
       "3                                                NaN   \n",
       "4                                                NaN   \n",
       "5                                                NaN   \n",
       "6                                                NaN   \n",
       "7                                                NaN   \n",
       "8                                                NaN   \n",
       "\n",
       "                                                  34  \\\n",
       "0  https://www.douban.com/group/topic/336478156/?...   \n",
       "1                                                NaN   \n",
       "2                                                NaN   \n",
       "3                                                NaN   \n",
       "4                                                NaN   \n",
       "5                                                NaN   \n",
       "6                                                NaN   \n",
       "7                                                NaN   \n",
       "8                                                NaN   \n",
       "\n",
       "                                                  35  \n",
       "0  https://www.douban.com/group/topic/336561536/?...  \n",
       "1                                                NaN  \n",
       "2                                                NaN  \n",
       "3                                                NaN  \n",
       "4                                                NaN  \n",
       "5                                                NaN  \n",
       "6                                                NaN  \n",
       "7                                                NaN  \n",
       "8                                                NaN  \n",
       "\n",
       "[9 rows x 36 columns]"
      ]
     },
     "execution_count": 4,
     "metadata": {},
     "output_type": "execute_result"
    }
   ],
   "source": [
    "num=pd.DataFrame(list(collection.find()))\n",
    "del num['_id']\n",
    "num"
   ]
  },
  {
   "cell_type": "code",
   "execution_count": 5,
   "id": "c840da3578f227e5",
   "metadata": {
    "ExecuteTime": {
     "end_time": "2024-08-13T03:26:11.238632Z",
     "start_time": "2024-08-13T03:26:11.231631Z"
    },
    "collapsed": false
   },
   "outputs": [
    {
     "data": {
      "application/vnd.microsoft.datawrangler.viewer.v0+json": {
       "columns": [
        {
         "name": "(None, None)",
         "rawType": "object",
         "type": "unknown"
        },
        {
         "name": "0",
         "rawType": "object",
         "type": "string"
        }
       ],
       "ref": "d7c61636-cb26-468e-adb3-1015a82ef663",
       "rows": [
        [
         "(0, '0')",
         "https://www.douban.com/group/topic/80204323/?_spm_id=NTc4OTkzOTc"
        ],
        [
         "(0, '1')",
         "https://www.douban.com/group/topic/2140504/?_spm_id=MTc2MzIzNQ"
        ],
        [
         "(0, '2')",
         "https://www.douban.com/group/topic/1052490/?_spm_id=MTExOTE5Mw"
        ],
        [
         "(0, '3')",
         "https://www.douban.com/group/topic/289012478/?_spm_id=MTA4OTQ5MQ"
        ],
        [
         "(0, '4')",
         "https://www.douban.com/group/topic/289029665/?_spm_id=MTAxMDE2Mg"
        ],
        [
         "(0, '5')",
         "https://www.douban.com/group/topic/289012511/?_spm_id=MTA4OTQ5MQ"
        ],
        [
         "(0, '6')",
         "https://www.douban.com/group/topic/289012578/?_spm_id=MTA4OTQ5MQ"
        ],
        [
         "(0, '7')",
         "https://www.douban.com/group/topic/337201546/?_spm_id=Mjg3MzYyNzYz"
        ],
        [
         "(0, '8')",
         "https://www.douban.com/group/topic/337028675/?_spm_id=Mjc4Mjk3OTgz"
        ],
        [
         "(0, '9')",
         "https://www.douban.com/group/topic/336581851/?_spm_id=MjQzMDc1NzM4"
        ],
        [
         "(0, '10')",
         "https://www.douban.com/group/topic/312541952/?_spm_id=MTYxNTAxNjcw"
        ],
        [
         "(0, '11')",
         "https://www.douban.com/group/topic/331961800/?_spm_id=MTk3Njc0MjUz"
        ],
        [
         "(0, '12')",
         "https://www.douban.com/group/topic/336702896/?_spm_id=MjExMDMwNTY2"
        ],
        [
         "(0, '13')",
         "https://www.douban.com/group/topic/337174117/?_spm_id=Mjc3MjA5MjI5"
        ],
        [
         "(0, '14')",
         "https://www.douban.com/group/topic/337173236/?_spm_id=MjkxMjg1NDE1"
        ],
        [
         "(0, '15')",
         "https://www.douban.com/group/topic/336159529/?_spm_id=MjQ0MDk0MDgw"
        ],
        [
         "(0, '16')",
         "https://www.douban.com/group/topic/336505523/?_spm_id=MjAyODgwMzQ0"
        ],
        [
         "(0, '17')",
         "https://www.douban.com/group/topic/336207054/?_spm_id=MjE1NTc5MDMx"
        ],
        [
         "(0, '18')",
         "https://www.douban.com/group/topic/335219662/?_spm_id=ODg3Mzg0MTU"
        ],
        [
         "(0, '19')",
         "https://www.douban.com/group/topic/337082118/?_spm_id=MjkxMjYxMzE0"
        ],
        [
         "(0, '20')",
         "https://www.douban.com/group/topic/171789064/?_spm_id=MTYwNzUwNzIx"
        ],
        [
         "(0, '21')",
         "https://www.douban.com/group/topic/337065730/?_spm_id=Mjg3NTExMTY5"
        ],
        [
         "(0, '22')",
         "https://www.douban.com/group/topic/337053985/?_spm_id=Mjg1MDcyMjIy"
        ],
        [
         "(0, '23')",
         "https://www.douban.com/group/topic/337050921/?_spm_id=MjMyODg3NDYz"
        ],
        [
         "(0, '24')",
         "https://www.douban.com/group/topic/323896665/?_spm_id=MTk1MjMwOTQ4"
        ],
        [
         "(0, '25')",
         "https://www.douban.com/group/topic/336652557/?_spm_id=MjM5NjYyMzY1"
        ],
        [
         "(0, '26')",
         "https://www.douban.com/group/topic/336706576/?_spm_id=Mjc3MjA5MjI5"
        ],
        [
         "(0, '27')",
         "https://www.douban.com/group/topic/325638101/?_spm_id=MTk3Njc0MjUz"
        ],
        [
         "(0, '28')",
         "https://www.douban.com/group/topic/248204845/?_spm_id=MTIyODg2MTIx"
        ],
        [
         "(0, '29')",
         "https://www.douban.com/group/topic/336955404/?_spm_id=MTgyNzc0ODIx"
        ],
        [
         "(0, '30')",
         "https://www.douban.com/group/topic/336901822/?_spm_id=MjcxMjE0MTQ3"
        ],
        [
         "(0, '31')",
         "https://www.douban.com/group/topic/326444319/?_spm_id=MjIxMTY1Nw"
        ],
        [
         "(0, '32')",
         "https://www.douban.com/group/topic/336792105/?_spm_id=MjAzNjUyNzg0"
        ],
        [
         "(0, '33')",
         "https://www.douban.com/group/topic/336140088/?_spm_id=Mjg1OTY1NTYw"
        ],
        [
         "(0, '34')",
         "https://www.douban.com/group/topic/336478156/?_spm_id=MjgxNDU0ODc1"
        ],
        [
         "(0, '35')",
         "https://www.douban.com/group/topic/336561536/?_spm_id=MjIyNDA0ODQ0"
        ],
        [
         "(1, '0')",
         "https://www.douban.com/group/topic/326444319/?_spm_id=MjIxMTY1Nw"
        ],
        [
         "(1, '1')",
         "https://www.douban.com/group/topic/336792105/?_spm_id=MjAzNjUyNzg0"
        ],
        [
         "(1, '2')",
         "https://www.douban.com/group/topic/336140088/?_spm_id=Mjg1OTY1NTYw"
        ],
        [
         "(1, '3')",
         "https://www.douban.com/group/topic/336478156/?_spm_id=MjgxNDU0ODc1"
        ],
        [
         "(1, '4')",
         "https://www.douban.com/group/topic/336561536/?_spm_id=MjIyNDA0ODQ0"
        ],
        [
         "(1, '5')",
         "https://www.douban.com/group/topic/336674429/?_spm_id=MjYxNTU1NDg2"
        ],
        [
         "(1, '6')",
         "https://www.douban.com/group/topic/336633461/?_spm_id=Mjg2MDUyODQw"
        ],
        [
         "(1, '7')",
         "https://www.douban.com/group/topic/336631010/?_spm_id=MTkxOTUzNzE2"
        ],
        [
         "(1, '8')",
         "https://www.douban.com/group/topic/336616838/?_spm_id=MjU1MTQzNDYx"
        ],
        [
         "(1, '9')",
         "https://www.douban.com/group/topic/336600475/?_spm_id=MjAyMzQwNzg2"
        ],
        [
         "(1, '10')",
         "https://www.douban.com/group/topic/336520506/?_spm_id=MTc0MDQ1NDI2"
        ],
        [
         "(1, '11')",
         "https://www.douban.com/group/topic/318930587/?_spm_id=MjU1OTM1NjIz"
        ],
        [
         "(1, '12')",
         "https://www.douban.com/group/topic/336538770/?_spm_id=MjkwNDYzNDU2"
        ],
        [
         "(1, '13')",
         "https://www.douban.com/group/topic/336518292/?_spm_id=Mjc3MjA5MjI5"
        ]
       ],
       "shape": {
        "columns": 1,
        "rows": 264
       }
      },
      "text/plain": [
       "0  0     https://www.douban.com/group/topic/80204323/?_...\n",
       "   1     https://www.douban.com/group/topic/2140504/?_s...\n",
       "   2     https://www.douban.com/group/topic/1052490/?_s...\n",
       "   3     https://www.douban.com/group/topic/289012478/?...\n",
       "   4     https://www.douban.com/group/topic/289029665/?...\n",
       "                               ...                        \n",
       "8  25    https://www.douban.com/group/topic/296906965/?...\n",
       "   26    https://www.douban.com/group/topic/330720667/?...\n",
       "   27    https://www.douban.com/group/topic/328983187/?...\n",
       "   28    https://www.douban.com/group/topic/330671135/?...\n",
       "   29    https://www.douban.com/group/topic/330535697/?...\n",
       "Length: 264, dtype: object"
      ]
     },
     "execution_count": 5,
     "metadata": {},
     "output_type": "execute_result"
    }
   ],
   "source": [
    "numstack=num.stack()\n",
    "numstack"
   ]
  },
  {
   "cell_type": "code",
   "execution_count": 6,
   "id": "7236195a52a562e2",
   "metadata": {
    "ExecuteTime": {
     "end_time": "2024-08-13T03:26:14.365684Z",
     "start_time": "2024-08-13T03:26:14.360889Z"
    },
    "collapsed": false
   },
   "outputs": [],
   "source": [
    "dfnum=pd.DataFrame(numstack).reset_index()\n",
    "del dfnum['level_1']\n",
    "del dfnum['level_0']\n",
    "dfnums=dfnum.reset_index().rename(columns={0:'num'})"
   ]
  },
  {
   "cell_type": "code",
   "execution_count": 7,
   "id": "727e717721f3aecb",
   "metadata": {
    "ExecuteTime": {
     "end_time": "2024-08-13T03:26:25.519057Z",
     "start_time": "2024-08-13T03:26:25.478731Z"
    },
    "collapsed": false
   },
   "outputs": [
    {
     "data": {
      "text/plain": [
       "InsertManyResult([ObjectId('68ca9c3850e7ba9fc5974f56'), ObjectId('68ca9c3850e7ba9fc5974f57'), ObjectId('68ca9c3850e7ba9fc5974f58'), ObjectId('68ca9c3850e7ba9fc5974f59'), ObjectId('68ca9c3850e7ba9fc5974f5a'), ObjectId('68ca9c3850e7ba9fc5974f5b'), ObjectId('68ca9c3850e7ba9fc5974f5c'), ObjectId('68ca9c3850e7ba9fc5974f5d'), ObjectId('68ca9c3850e7ba9fc5974f5e'), ObjectId('68ca9c3850e7ba9fc5974f5f'), ObjectId('68ca9c3850e7ba9fc5974f60'), ObjectId('68ca9c3850e7ba9fc5974f61'), ObjectId('68ca9c3850e7ba9fc5974f62'), ObjectId('68ca9c3850e7ba9fc5974f63'), ObjectId('68ca9c3850e7ba9fc5974f64'), ObjectId('68ca9c3850e7ba9fc5974f65'), ObjectId('68ca9c3850e7ba9fc5974f66'), ObjectId('68ca9c3850e7ba9fc5974f67'), ObjectId('68ca9c3850e7ba9fc5974f68'), ObjectId('68ca9c3850e7ba9fc5974f69'), ObjectId('68ca9c3850e7ba9fc5974f6a'), ObjectId('68ca9c3850e7ba9fc5974f6b'), ObjectId('68ca9c3850e7ba9fc5974f6c'), ObjectId('68ca9c3850e7ba9fc5974f6d'), ObjectId('68ca9c3850e7ba9fc5974f6e'), ObjectId('68ca9c3850e7ba9fc5974f6f'), ObjectId('68ca9c3850e7ba9fc5974f70'), ObjectId('68ca9c3850e7ba9fc5974f71'), ObjectId('68ca9c3850e7ba9fc5974f72'), ObjectId('68ca9c3850e7ba9fc5974f73'), ObjectId('68ca9c3850e7ba9fc5974f74'), ObjectId('68ca9c3850e7ba9fc5974f75'), ObjectId('68ca9c3850e7ba9fc5974f76'), ObjectId('68ca9c3850e7ba9fc5974f77'), ObjectId('68ca9c3850e7ba9fc5974f78'), ObjectId('68ca9c3850e7ba9fc5974f79'), ObjectId('68ca9c3850e7ba9fc5974f7a'), ObjectId('68ca9c3850e7ba9fc5974f7b'), ObjectId('68ca9c3850e7ba9fc5974f7c'), ObjectId('68ca9c3850e7ba9fc5974f7d'), ObjectId('68ca9c3850e7ba9fc5974f7e'), ObjectId('68ca9c3850e7ba9fc5974f7f'), ObjectId('68ca9c3850e7ba9fc5974f80'), ObjectId('68ca9c3850e7ba9fc5974f81'), ObjectId('68ca9c3850e7ba9fc5974f82'), ObjectId('68ca9c3850e7ba9fc5974f83'), ObjectId('68ca9c3850e7ba9fc5974f84'), ObjectId('68ca9c3850e7ba9fc5974f85'), ObjectId('68ca9c3850e7ba9fc5974f86'), ObjectId('68ca9c3850e7ba9fc5974f87'), ObjectId('68ca9c3850e7ba9fc5974f88'), ObjectId('68ca9c3850e7ba9fc5974f89'), ObjectId('68ca9c3850e7ba9fc5974f8a'), ObjectId('68ca9c3850e7ba9fc5974f8b'), ObjectId('68ca9c3850e7ba9fc5974f8c'), ObjectId('68ca9c3850e7ba9fc5974f8d'), ObjectId('68ca9c3850e7ba9fc5974f8e'), ObjectId('68ca9c3850e7ba9fc5974f8f'), ObjectId('68ca9c3850e7ba9fc5974f90'), ObjectId('68ca9c3850e7ba9fc5974f91'), ObjectId('68ca9c3850e7ba9fc5974f92'), ObjectId('68ca9c3850e7ba9fc5974f93'), ObjectId('68ca9c3850e7ba9fc5974f94'), ObjectId('68ca9c3850e7ba9fc5974f95'), ObjectId('68ca9c3850e7ba9fc5974f96'), ObjectId('68ca9c3850e7ba9fc5974f97'), ObjectId('68ca9c3850e7ba9fc5974f98'), ObjectId('68ca9c3850e7ba9fc5974f99'), ObjectId('68ca9c3850e7ba9fc5974f9a'), ObjectId('68ca9c3850e7ba9fc5974f9b'), ObjectId('68ca9c3850e7ba9fc5974f9c'), ObjectId('68ca9c3850e7ba9fc5974f9d'), ObjectId('68ca9c3850e7ba9fc5974f9e'), ObjectId('68ca9c3850e7ba9fc5974f9f'), ObjectId('68ca9c3850e7ba9fc5974fa0'), ObjectId('68ca9c3850e7ba9fc5974fa1'), ObjectId('68ca9c3850e7ba9fc5974fa2'), ObjectId('68ca9c3850e7ba9fc5974fa3'), ObjectId('68ca9c3850e7ba9fc5974fa4'), ObjectId('68ca9c3850e7ba9fc5974fa5'), ObjectId('68ca9c3850e7ba9fc5974fa6'), ObjectId('68ca9c3850e7ba9fc5974fa7'), ObjectId('68ca9c3850e7ba9fc5974fa8'), ObjectId('68ca9c3850e7ba9fc5974fa9'), ObjectId('68ca9c3850e7ba9fc5974faa'), ObjectId('68ca9c3850e7ba9fc5974fab'), ObjectId('68ca9c3850e7ba9fc5974fac'), ObjectId('68ca9c3850e7ba9fc5974fad'), ObjectId('68ca9c3850e7ba9fc5974fae'), ObjectId('68ca9c3850e7ba9fc5974faf'), ObjectId('68ca9c3850e7ba9fc5974fb0'), ObjectId('68ca9c3850e7ba9fc5974fb1'), ObjectId('68ca9c3850e7ba9fc5974fb2'), ObjectId('68ca9c3850e7ba9fc5974fb3'), ObjectId('68ca9c3850e7ba9fc5974fb4'), ObjectId('68ca9c3850e7ba9fc5974fb5'), ObjectId('68ca9c3850e7ba9fc5974fb6'), ObjectId('68ca9c3850e7ba9fc5974fb7'), ObjectId('68ca9c3850e7ba9fc5974fb8'), ObjectId('68ca9c3850e7ba9fc5974fb9'), ObjectId('68ca9c3850e7ba9fc5974fba'), ObjectId('68ca9c3850e7ba9fc5974fbb'), ObjectId('68ca9c3850e7ba9fc5974fbc'), ObjectId('68ca9c3850e7ba9fc5974fbd'), ObjectId('68ca9c3850e7ba9fc5974fbe'), ObjectId('68ca9c3850e7ba9fc5974fbf'), ObjectId('68ca9c3850e7ba9fc5974fc0'), ObjectId('68ca9c3850e7ba9fc5974fc1'), ObjectId('68ca9c3850e7ba9fc5974fc2'), ObjectId('68ca9c3850e7ba9fc5974fc3'), ObjectId('68ca9c3850e7ba9fc5974fc4'), ObjectId('68ca9c3850e7ba9fc5974fc5'), ObjectId('68ca9c3850e7ba9fc5974fc6'), ObjectId('68ca9c3850e7ba9fc5974fc7'), ObjectId('68ca9c3850e7ba9fc5974fc8'), ObjectId('68ca9c3850e7ba9fc5974fc9'), ObjectId('68ca9c3850e7ba9fc5974fca'), ObjectId('68ca9c3850e7ba9fc5974fcb'), ObjectId('68ca9c3850e7ba9fc5974fcc'), ObjectId('68ca9c3850e7ba9fc5974fcd'), ObjectId('68ca9c3850e7ba9fc5974fce'), ObjectId('68ca9c3850e7ba9fc5974fcf'), ObjectId('68ca9c3850e7ba9fc5974fd0'), ObjectId('68ca9c3850e7ba9fc5974fd1'), ObjectId('68ca9c3850e7ba9fc5974fd2'), ObjectId('68ca9c3850e7ba9fc5974fd3'), ObjectId('68ca9c3850e7ba9fc5974fd4'), ObjectId('68ca9c3850e7ba9fc5974fd5'), ObjectId('68ca9c3850e7ba9fc5974fd6'), ObjectId('68ca9c3850e7ba9fc5974fd7'), ObjectId('68ca9c3850e7ba9fc5974fd8'), ObjectId('68ca9c3850e7ba9fc5974fd9'), ObjectId('68ca9c3850e7ba9fc5974fda'), ObjectId('68ca9c3850e7ba9fc5974fdb'), ObjectId('68ca9c3850e7ba9fc5974fdc'), ObjectId('68ca9c3850e7ba9fc5974fdd'), ObjectId('68ca9c3850e7ba9fc5974fde'), ObjectId('68ca9c3850e7ba9fc5974fdf'), ObjectId('68ca9c3850e7ba9fc5974fe0'), ObjectId('68ca9c3850e7ba9fc5974fe1'), ObjectId('68ca9c3850e7ba9fc5974fe2'), ObjectId('68ca9c3850e7ba9fc5974fe3'), ObjectId('68ca9c3850e7ba9fc5974fe4'), ObjectId('68ca9c3850e7ba9fc5974fe5'), ObjectId('68ca9c3850e7ba9fc5974fe6'), ObjectId('68ca9c3850e7ba9fc5974fe7'), ObjectId('68ca9c3850e7ba9fc5974fe8'), ObjectId('68ca9c3850e7ba9fc5974fe9'), ObjectId('68ca9c3850e7ba9fc5974fea'), ObjectId('68ca9c3850e7ba9fc5974feb'), ObjectId('68ca9c3850e7ba9fc5974fec'), ObjectId('68ca9c3850e7ba9fc5974fed'), ObjectId('68ca9c3850e7ba9fc5974fee'), ObjectId('68ca9c3850e7ba9fc5974fef'), ObjectId('68ca9c3850e7ba9fc5974ff0'), ObjectId('68ca9c3850e7ba9fc5974ff1'), ObjectId('68ca9c3850e7ba9fc5974ff2'), ObjectId('68ca9c3850e7ba9fc5974ff3'), ObjectId('68ca9c3850e7ba9fc5974ff4'), ObjectId('68ca9c3850e7ba9fc5974ff5'), ObjectId('68ca9c3850e7ba9fc5974ff6'), ObjectId('68ca9c3850e7ba9fc5974ff7'), ObjectId('68ca9c3850e7ba9fc5974ff8'), ObjectId('68ca9c3850e7ba9fc5974ff9'), ObjectId('68ca9c3850e7ba9fc5974ffa'), ObjectId('68ca9c3850e7ba9fc5974ffb'), ObjectId('68ca9c3850e7ba9fc5974ffc'), ObjectId('68ca9c3850e7ba9fc5974ffd'), ObjectId('68ca9c3850e7ba9fc5974ffe'), ObjectId('68ca9c3850e7ba9fc5974fff'), ObjectId('68ca9c3850e7ba9fc5975000'), ObjectId('68ca9c3850e7ba9fc5975001'), ObjectId('68ca9c3850e7ba9fc5975002'), ObjectId('68ca9c3850e7ba9fc5975003'), ObjectId('68ca9c3850e7ba9fc5975004'), ObjectId('68ca9c3850e7ba9fc5975005'), ObjectId('68ca9c3850e7ba9fc5975006'), ObjectId('68ca9c3850e7ba9fc5975007'), ObjectId('68ca9c3850e7ba9fc5975008'), ObjectId('68ca9c3850e7ba9fc5975009'), ObjectId('68ca9c3850e7ba9fc597500a'), ObjectId('68ca9c3850e7ba9fc597500b'), ObjectId('68ca9c3850e7ba9fc597500c'), ObjectId('68ca9c3850e7ba9fc597500d'), ObjectId('68ca9c3850e7ba9fc597500e'), ObjectId('68ca9c3850e7ba9fc597500f'), ObjectId('68ca9c3850e7ba9fc5975010'), ObjectId('68ca9c3850e7ba9fc5975011'), ObjectId('68ca9c3850e7ba9fc5975012'), ObjectId('68ca9c3850e7ba9fc5975013'), ObjectId('68ca9c3850e7ba9fc5975014'), ObjectId('68ca9c3850e7ba9fc5975015'), ObjectId('68ca9c3850e7ba9fc5975016'), ObjectId('68ca9c3850e7ba9fc5975017'), ObjectId('68ca9c3850e7ba9fc5975018'), ObjectId('68ca9c3850e7ba9fc5975019'), ObjectId('68ca9c3850e7ba9fc597501a'), ObjectId('68ca9c3850e7ba9fc597501b'), ObjectId('68ca9c3850e7ba9fc597501c'), ObjectId('68ca9c3850e7ba9fc597501d'), ObjectId('68ca9c3850e7ba9fc597501e'), ObjectId('68ca9c3850e7ba9fc597501f'), ObjectId('68ca9c3850e7ba9fc5975020'), ObjectId('68ca9c3850e7ba9fc5975021'), ObjectId('68ca9c3850e7ba9fc5975022'), ObjectId('68ca9c3850e7ba9fc5975023'), ObjectId('68ca9c3850e7ba9fc5975024'), ObjectId('68ca9c3850e7ba9fc5975025'), ObjectId('68ca9c3850e7ba9fc5975026'), ObjectId('68ca9c3850e7ba9fc5975027'), ObjectId('68ca9c3850e7ba9fc5975028'), ObjectId('68ca9c3850e7ba9fc5975029'), ObjectId('68ca9c3850e7ba9fc597502a'), ObjectId('68ca9c3850e7ba9fc597502b'), ObjectId('68ca9c3850e7ba9fc597502c'), ObjectId('68ca9c3850e7ba9fc597502d'), ObjectId('68ca9c3850e7ba9fc597502e'), ObjectId('68ca9c3850e7ba9fc597502f'), ObjectId('68ca9c3850e7ba9fc5975030'), ObjectId('68ca9c3850e7ba9fc5975031'), ObjectId('68ca9c3850e7ba9fc5975032'), ObjectId('68ca9c3850e7ba9fc5975033'), ObjectId('68ca9c3850e7ba9fc5975034'), ObjectId('68ca9c3850e7ba9fc5975035'), ObjectId('68ca9c3850e7ba9fc5975036'), ObjectId('68ca9c3850e7ba9fc5975037'), ObjectId('68ca9c3850e7ba9fc5975038'), ObjectId('68ca9c3850e7ba9fc5975039'), ObjectId('68ca9c3850e7ba9fc597503a'), ObjectId('68ca9c3850e7ba9fc597503b'), ObjectId('68ca9c3850e7ba9fc597503c'), ObjectId('68ca9c3850e7ba9fc597503d'), ObjectId('68ca9c3850e7ba9fc597503e'), ObjectId('68ca9c3850e7ba9fc597503f'), ObjectId('68ca9c3850e7ba9fc5975040'), ObjectId('68ca9c3850e7ba9fc5975041'), ObjectId('68ca9c3850e7ba9fc5975042'), ObjectId('68ca9c3850e7ba9fc5975043'), ObjectId('68ca9c3850e7ba9fc5975044'), ObjectId('68ca9c3850e7ba9fc5975045'), ObjectId('68ca9c3850e7ba9fc5975046'), ObjectId('68ca9c3850e7ba9fc5975047'), ObjectId('68ca9c3850e7ba9fc5975048'), ObjectId('68ca9c3850e7ba9fc5975049'), ObjectId('68ca9c3850e7ba9fc597504a'), ObjectId('68ca9c3850e7ba9fc597504b'), ObjectId('68ca9c3850e7ba9fc597504c'), ObjectId('68ca9c3850e7ba9fc597504d'), ObjectId('68ca9c3850e7ba9fc597504e'), ObjectId('68ca9c3850e7ba9fc597504f'), ObjectId('68ca9c3850e7ba9fc5975050'), ObjectId('68ca9c3850e7ba9fc5975051'), ObjectId('68ca9c3850e7ba9fc5975052'), ObjectId('68ca9c3850e7ba9fc5975053'), ObjectId('68ca9c3850e7ba9fc5975054'), ObjectId('68ca9c3850e7ba9fc5975055'), ObjectId('68ca9c3850e7ba9fc5975056'), ObjectId('68ca9c3850e7ba9fc5975057'), ObjectId('68ca9c3850e7ba9fc5975058'), ObjectId('68ca9c3850e7ba9fc5975059'), ObjectId('68ca9c3850e7ba9fc597505a'), ObjectId('68ca9c3850e7ba9fc597505b'), ObjectId('68ca9c3850e7ba9fc597505c'), ObjectId('68ca9c3850e7ba9fc597505d')], acknowledged=True)"
      ]
     },
     "execution_count": 7,
     "metadata": {},
     "output_type": "execute_result"
    }
   ],
   "source": [
    "collection2 = client[\"douban\"][(groupname+\"url\")]\n",
    "collection2.insert_many(dfnums.to_dict('records'))"
   ]
  }
 ],
 "metadata": {
  "kernelspec": {
   "display_name": "dataman",
   "language": "python",
   "name": "python3"
  },
  "language_info": {
   "codemirror_mode": {
    "name": "ipython",
    "version": 3
   },
   "file_extension": ".py",
   "mimetype": "text/x-python",
   "name": "python",
   "nbconvert_exporter": "python",
   "pygments_lexer": "ipython3",
   "version": "3.12.11"
  }
 },
 "nbformat": 4,
 "nbformat_minor": 5
}
